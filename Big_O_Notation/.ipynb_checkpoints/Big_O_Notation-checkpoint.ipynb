{
 "cells": [
  {
   "cell_type": "code",
   "execution_count": 1,
   "metadata": {},
   "outputs": [
    {
     "data": {
      "text/plain": [
       "'\\nBig O Notation means how long an algorithm takes to run.\\nIn computer science it is used to classify the program based on how their run time or space requirements grows as input size grows.\\nFunctions with the same growth rate are represented with same O notation.\\nGrowth of function is referred as order of function and hence the letter O is used.\\n'"
      ]
     },
     "execution_count": 1,
     "metadata": {},
     "output_type": "execute_result"
    }
   ],
   "source": [
    "\"\"\"\n",
    "Big O Notation means how long an algorithm takes to run.\n",
    "In computer science it is used to classify the program based on \\\n",
    "how their run time or space requirements grows as input size grows.\n",
    "Functions with the same growth rate are represented with same O notation.\n",
    "Growth of function is referred as order of function and hence the letter \\\n",
    "O is used.\n",
    "\"\"\""
   ]
  },
  {
   "cell_type": "markdown",
   "metadata": {},
   "source": [
    "## Example for O(1)"
   ]
  },
  {
   "cell_type": "code",
   "execution_count": 5,
   "metadata": {},
   "outputs": [
    {
     "name": "stdout",
     "output_type": "stream",
     "text": [
      "4\n"
     ]
    }
   ],
   "source": [
    "def print_first_element(items):\n",
    "    print(items[0])\n",
    "\n",
    "items = [4, 5, 6]\n",
    "print_first_element(items)"
   ]
  },
  {
   "cell_type": "markdown",
   "metadata": {},
   "source": [
    "## Explanation for code for 0(1)"
   ]
  },
  {
   "cell_type": "code",
   "execution_count": 6,
   "metadata": {},
   "outputs": [
    {
     "data": {
      "text/plain": [
       "'\\nif input size is increased to n items even then function would always require one step. Hence the function runs in 0(1) time\\n'"
      ]
     },
     "execution_count": 6,
     "metadata": {},
     "output_type": "execute_result"
    }
   ],
   "source": [
    "\"\"\"\n",
    "if input size is increased to n items even then function would \\\n",
    "always require one step. Hence the function runs in 0(1) time\n",
    "\"\"\""
   ]
  },
  {
   "cell_type": "markdown",
   "metadata": {},
   "source": [
    "## Example for 0(n) or Linear Time"
   ]
  },
  {
   "cell_type": "code",
   "execution_count": 7,
   "metadata": {},
   "outputs": [
    {
     "name": "stdout",
     "output_type": "stream",
     "text": [
      "4\n",
      "5\n",
      "6\n"
     ]
    }
   ],
   "source": [
    "def print_all_elements(items):\n",
    "    \n",
    "    for each_element in items:\n",
    "        print(each_element)\n",
    "\n",
    "print_all_elements(items)        "
   ]
  },
  {
   "cell_type": "markdown",
   "metadata": {},
   "source": [
    "## Explanation of O(n)"
   ]
  },
  {
   "cell_type": "code",
   "execution_count": 10,
   "metadata": {},
   "outputs": [
    {
     "data": {
      "text/plain": [
       "'\\nWhen the size of list (items) = 3, number of iterations in the function is 3\\nWhen the size of list (items) = n, number of iterations in the function is n\\nIterations varies linearly with the size of list (items)\\n'"
      ]
     },
     "execution_count": 10,
     "metadata": {},
     "output_type": "execute_result"
    }
   ],
   "source": [
    "\"\"\"\n",
    "When the size of list (items) = 3, number of iterations in the function is 3\n",
    "When the size of list (items) = n, number of iterations in the function is n\n",
    "Iterations varies linearly with the size of list (items)\n",
    "\"\"\""
   ]
  },
  {
   "cell_type": "markdown",
   "metadata": {},
   "source": [
    "## Example for O(n**2)"
   ]
  },
  {
   "cell_type": "code",
   "execution_count": 25,
   "metadata": {},
   "outputs": [
    {
     "name": "stdout",
     "output_type": "stream",
     "text": [
      "outer loop element: 1 inner loop element: 1\n",
      "outer loop element: 1 inner loop element: 2\n",
      "outer loop element: 2 inner loop element: 1\n",
      "outer loop element: 2 inner loop element: 2\n"
     ]
    }
   ],
   "source": [
    "def print_inner_outer(items1):\n",
    "    \n",
    "    for each_element_outer in items1:\n",
    "        for each_element_inner in items1:\n",
    "            print(\n",
    "              \"outer loop element:\", each_element_outer, \n",
    "              \"inner loop element:\", each_element_inner\n",
    "              )\n",
    "\n",
    "outer_loop = [1, 2]\n",
    "\n",
    "print_inner_outer(\n",
    "        items1=outer_loop, \n",
    "        )"
   ]
  },
  {
   "cell_type": "markdown",
   "metadata": {},
   "source": [
    "## Explanation for O(n**2)"
   ]
  },
  {
   "cell_type": "code",
   "execution_count": 26,
   "metadata": {},
   "outputs": [
    {
     "data": {
      "text/plain": [
       "'\\nThis is an example of nested loop. In the above example list contains 2 elements whereas 4 iterations has been run for value of n=2 so clearly the relation is number of iterations is square of n\\n'"
      ]
     },
     "execution_count": 26,
     "metadata": {},
     "output_type": "execute_result"
    }
   ],
   "source": [
    "\"\"\"\n",
    "This is an example of nested loop. In the above example list contains 2 elements \\\n",
    "whereas 4 iterations has been run for value of n=2 so clearly the relation is \\\n",
    "number of iterations is square of n\n",
    "\"\"\""
   ]
  },
  {
   "cell_type": "markdown",
   "metadata": {},
   "source": [
    "## Drop the constant"
   ]
  },
  {
   "cell_type": "code",
   "execution_count": 34,
   "metadata": {},
   "outputs": [
    {
     "name": "stdout",
     "output_type": "stream",
     "text": [
      "1\n",
      "1\n",
      "2\n",
      "welcome\n",
      "welcome\n",
      "welcome\n",
      "welcome\n",
      "welcome\n",
      "welcome\n",
      "welcome\n",
      "welcome\n",
      "welcome\n",
      "welcome\n"
     ]
    }
   ],
   "source": [
    "def constant_drop(list_of_elements):\n",
    "    # code for printing only first element\n",
    "    print(list_of_elements[0])\n",
    "    \n",
    "    # code for printing half elements\n",
    "    threshold = int(len(list_of_elements)/2)\n",
    "    for index in range(threshold):\n",
    "        print(list_of_elements[index])\n",
    "        \n",
    "    # code for printing welcome 5 times\n",
    "    for index in range(10):\n",
    "        print(\"welcome\")\n",
    "\n",
    "list_elements = [1, 2, 3, 4]\n",
    "constant_drop(list_elements)        "
   ]
  },
  {
   "cell_type": "markdown",
   "metadata": {},
   "source": [
    "## Explanation for constant"
   ]
  },
  {
   "cell_type": "code",
   "execution_count": 35,
   "metadata": {},
   "outputs": [
    {
     "data": {
      "text/plain": [
       "'\\nAbove function will run in O(1 + n/2 + 10) time \\nBut as n grows, 1, 1/2 and 10 becomes insignificant and hence function will run in O(n)\\nSo for this function O(1 + n/2 + 10) == O(n)\\n\\ni.e constants are dropped\\n'"
      ]
     },
     "execution_count": 35,
     "metadata": {},
     "output_type": "execute_result"
    }
   ],
   "source": [
    "\"\"\"\n",
    "Above function will run in O(1 + n/2 + 10) time \n",
    "But as n grows, 1, 1/2 and 10 becomes insignificant \\\n",
    "and hence function will run in O(n)\n",
    "So for this function O(1 + n/2 + 10) == O(n)\n",
    "\n",
    "i.e constants are dropped\n",
    "\"\"\""
   ]
  },
  {
   "cell_type": "markdown",
   "metadata": {},
   "source": [
    "## Drop the less significant term"
   ]
  },
  {
   "cell_type": "code",
   "execution_count": 38,
   "metadata": {},
   "outputs": [
    {
     "name": "stdout",
     "output_type": "stream",
     "text": [
      "Printing all numbers in a loop\n",
      "1\n",
      "2\n",
      "Printing elements of outer and innner loop\n",
      "Outer Elements are: 1 Inner Elements are: 1\n",
      "Outer Elements are: 1 Inner Elements are: 2\n",
      "Outer Elements are: 2 Inner Elements are: 1\n",
      "Outer Elements are: 2 Inner Elements are: 2\n"
     ]
    }
   ],
   "source": [
    "def all_numbers_and_outer_inner_loops(list_of_numbers):\n",
    "    \n",
    "    print(\"Printing all numbers in a loop\")\n",
    "    for each_number in list_of_numbers:\n",
    "        print(each_number)\n",
    "    \n",
    "    print(\"Printing elements of outer and innner loop\")\n",
    "    for each_outer_element in list_of_numbers:\n",
    "        for each_inner_element in list_of_numbers:\n",
    "            print(\n",
    "                 \"Outer Elements are: {}\".format(\n",
    "                               each_outer_element\n",
    "                               ),\n",
    "                 \"Inner Elements are: {}\".format(\n",
    "                               each_inner_element\n",
    "                               )\n",
    "                 )\n",
    "\n",
    "list_of_numbers= [1, 2]\n",
    "all_numbers_and_outer_inner_loops(list_of_numbers)"
   ]
  },
  {
   "cell_type": "markdown",
   "metadata": {},
   "source": [
    "## Explanation of dropping the less significant term"
   ]
  },
  {
   "cell_type": "code",
   "execution_count": 39,
   "metadata": {},
   "outputs": [
    {
     "data": {
      "text/plain": [
       "'\\nFunction will run in O(n + n**2).\\nSince n is less significant as compared to n**2, \\nn can be dropped.\\n\\nHence, function will run in O(n**2) time.\\n\\n'"
      ]
     },
     "execution_count": 39,
     "metadata": {},
     "output_type": "execute_result"
    }
   ],
   "source": [
    "\"\"\"\n",
    "Function will run in O(n + n**2).\n",
    "Since n is less significant as compared to n**2, \n",
    "n can be dropped.\n",
    "\n",
    "Hence, function will run in O(n**2) time.\n",
    "\n",
    "\"\"\""
   ]
  },
  {
   "cell_type": "code",
   "execution_count": 41,
   "metadata": {},
   "outputs": [],
   "source": [
    "# https://www.interviewcake.com/article/python/big-o-notation-time-and-space-complexity?"
   ]
  }
 ],
 "metadata": {
  "kernelspec": {
   "display_name": "Python 3",
   "language": "python",
   "name": "python3"
  },
  "language_info": {
   "codemirror_mode": {
    "name": "ipython",
    "version": 3
   },
   "file_extension": ".py",
   "mimetype": "text/x-python",
   "name": "python",
   "nbconvert_exporter": "python",
   "pygments_lexer": "ipython3",
   "version": "3.6.12"
  }
 },
 "nbformat": 4,
 "nbformat_minor": 4
}
